{
 "cells": [
  {
   "cell_type": "code",
   "execution_count": 34,
   "metadata": {},
   "outputs": [],
   "source": [
    "from web3 import Web3, eth\n",
    "import pandas as pd\n",
    "import numpy as np\n",
    "from datetime import datetime\n",
    "from hexbytes import HexBytes\n",
    "import time\n",
    "from web3.middleware import geth_poa_middleware\n",
    "\n",
    "# Keep ABIs and recurring functions in \"utils\" to make this code cleaner\n",
    "from utils import params\n",
    "InitializableImmutableAdminUpgradeabilityProxyABI = params()\n",
    "\n",
    "pd.set_option('display.max_columns', 100)"
   ]
  },
  {
   "attachments": {},
   "cell_type": "markdown",
   "metadata": {},
   "source": [
    "We are going to bring pool information from the following networks:\n",
    "- Ethereum Mainnet\n",
    "- Polygon\n",
    "- Avalanche\n",
    "- Optimism\n",
    "\n",
    "We bring data for both version V2 and version V3 of AAVE as appropriate on each network\n",
    "\n",
    "For each network/version we bring all pairs that can be deposited"
   ]
  },
  {
   "cell_type": "code",
   "execution_count": 3,
   "metadata": {},
   "outputs": [
    {
     "data": {
      "text/html": [
       "<div>\n",
       "<style scoped>\n",
       "    .dataframe tbody tr th:only-of-type {\n",
       "        vertical-align: middle;\n",
       "    }\n",
       "\n",
       "    .dataframe tbody tr th {\n",
       "        vertical-align: top;\n",
       "    }\n",
       "\n",
       "    .dataframe thead th {\n",
       "        text-align: right;\n",
       "    }\n",
       "</style>\n",
       "<table border=\"1\" class=\"dataframe\">\n",
       "  <thead>\n",
       "    <tr style=\"text-align: right;\">\n",
       "      <th></th>\n",
       "      <th>contract_address</th>\n",
       "      <th>reserve</th>\n",
       "      <th>symbol</th>\n",
       "      <th>decimals</th>\n",
       "      <th>blockchain</th>\n",
       "      <th>aave_version</th>\n",
       "      <th>creation_block</th>\n",
       "    </tr>\n",
       "  </thead>\n",
       "  <tbody>\n",
       "    <tr>\n",
       "      <th>0</th>\n",
       "      <td>0x87870bca3f3fd6335c3f4ce8392d69350b4fa4e2</td>\n",
       "      <td>0x5f98805a4e8be255a32880fdec7f6728c6568ba0</td>\n",
       "      <td>LUSD</td>\n",
       "      <td>18</td>\n",
       "      <td>ethereum</td>\n",
       "      <td>v3</td>\n",
       "      <td>16291127</td>\n",
       "    </tr>\n",
       "    <tr>\n",
       "      <th>1</th>\n",
       "      <td>0x87870bca3f3fd6335c3f4ce8392d69350b4fa4e2</td>\n",
       "      <td>0xa0b86991c6218b36c1d19d4a2e9eb0ce3606eb48</td>\n",
       "      <td>USDC</td>\n",
       "      <td>6</td>\n",
       "      <td>ethereum</td>\n",
       "      <td>v3</td>\n",
       "      <td>16291127</td>\n",
       "    </tr>\n",
       "  </tbody>\n",
       "</table>\n",
       "</div>"
      ],
      "text/plain": [
       "                             contract_address  \\\n",
       "0  0x87870bca3f3fd6335c3f4ce8392d69350b4fa4e2   \n",
       "1  0x87870bca3f3fd6335c3f4ce8392d69350b4fa4e2   \n",
       "\n",
       "                                      reserve symbol  decimals blockchain  \\\n",
       "0  0x5f98805a4e8be255a32880fdec7f6728c6568ba0   LUSD        18   ethereum   \n",
       "1  0xa0b86991c6218b36c1d19d4a2e9eb0ce3606eb48   USDC         6   ethereum   \n",
       "\n",
       "  aave_version  creation_block  \n",
       "0           v3        16291127  \n",
       "1           v3        16291127  "
      ]
     },
     "execution_count": 3,
     "metadata": {},
     "output_type": "execute_result"
    }
   ],
   "source": [
    "# Save in an Excel file all the AAVE pools that we want to track\n",
    "aavePools = pd.read_excel('aavePools.xlsx')\n",
    "aavePools.head(2)"
   ]
  },
  {
   "attachments": {},
   "cell_type": "markdown",
   "metadata": {},
   "source": [
    "## Get Logs from Network"
   ]
  },
  {
   "attachments": {},
   "cell_type": "markdown",
   "metadata": {},
   "source": [
    "The code is written once, but we iterate through the different networks and versions, changing the parameters that are necessary"
   ]
  },
  {
   "cell_type": "code",
   "execution_count": 9,
   "metadata": {},
   "outputs": [
    {
     "data": {
      "text/plain": [
       "True"
      ]
     },
     "execution_count": 9,
     "metadata": {},
     "output_type": "execute_result"
    }
   ],
   "source": [
    "# Use a network node to request the past logs \n",
    "provider = Web3.HTTPProvider('https://ethereum.blockpi.network/v1/rpc/public') # CHANGE HERE\n",
    "w3eth = Web3(provider)\n",
    "w3eth.isConnected()\n",
    "\n",
    "#Nodes Providers:\n",
    "#  https://chainlist.org/"
   ]
  },
  {
   "cell_type": "code",
   "execution_count": null,
   "metadata": {},
   "outputs": [],
   "source": [
    "# Each network and version has its own contract, although the ABI is identical for all\n",
    "aaveContract = aavePools[(aavePools.blockchain == 'ethereum') & (aavePools.aave_version == 'v3')].contract_address.unique()[0] # CHANGE HERE\n",
    "\n",
    "contract = w3eth.eth.contract(address=Web3.toChecksumAddress(aaveContract), abi=InitializableImmutableAdminUpgradeabilityProxyABI)"
   ]
  },
  {
   "cell_type": "code",
   "execution_count": null,
   "metadata": {},
   "outputs": [],
   "source": [
    "# Select the network and version to query\n",
    "pools = aavePools[(aavePools.blockchain == 'ethereum') & (aavePools.aave_version == 'v2')] # CHANGE HERE\n",
    "pools.head(1)"
   ]
  },
  {
   "cell_type": "code",
   "execution_count": null,
   "metadata": {},
   "outputs": [],
   "source": [
    "# Create a Range of Blocks to iterate in the Query\n",
    "step = 5000 # Query X blocks at a time\n",
    "blocks = range(pools.creation_block.iloc[0], w3eth.eth.block_number, step) # From first Block of the Contract to now"
   ]
  },
  {
   "cell_type": "code",
   "execution_count": null,
   "metadata": {},
   "outputs": [],
   "source": [
    "# Dataframe to save the results\n",
    "aaveLogs = pd.DataFrame()"
   ]
  },
  {
   "attachments": {},
   "cell_type": "markdown",
   "metadata": {},
   "source": [
    "### For \"AAVE v3\""
   ]
  },
  {
   "attachments": {},
   "cell_type": "markdown",
   "metadata": {},
   "source": [
    "This For Loop iterates through each group of blocks, retrieves the logs associated with this contract, looks for the ones that match the detailed topics and saves them as columns\n",
    "\n",
    "The DF has the txHash as an index and the log data as columns.  "
   ]
  },
  {
   "cell_type": "code",
   "execution_count": null,
   "metadata": {},
   "outputs": [],
   "source": [
    "for b in blocks:\n",
    "    print(f'Doing Blocks {b} to {b + step}', end = (' ' * 10) + '\\r')\n",
    "    \n",
    "    # Save to file every 100000 blocks\n",
    "    if (b - pools.creation_block.iloc[0]) % 100000 == 0:\n",
    "        aaveLogs.to_csv('aavetemp.csv')\n",
    "        print(f'{\" \" * 50} Salved at Block {b}', end = '\\r') \n",
    "    \n",
    "    # If it stops, continue from block b\n",
    "    if b < 0:\n",
    "        continue\n",
    "    \n",
    "    else:\n",
    "        for a in pools.contract_address:\n",
    "            filter = w3eth.eth.filter({'fromBlock': b, 'toBlock': b + step, 'address': Web3.toChecksumAddress(a)})\n",
    "            logs = w3eth.eth.get_filter_logs(filter.filter_id)\n",
    "            time.sleep(2)\n",
    "            for log in logs:\n",
    "                # ReserveDataUpdated \n",
    "                if log['topics'][0] == HexBytes('0x804c9b842b2748a22bb64b345453a3de7ca54a6ca45ce00d415894979e22897a'):\n",
    "                    try:\n",
    "                        decoded_log = contract.events.ReserveDataUpdated().processLog(log)\n",
    "                    except:\n",
    "                        log.topics[1] = HexBytes(log.topics[1])\n",
    "                        decoded_log = contract.events.Repay().processLog(log)\n",
    "                    aaveLogs.loc[decoded_log.transactionHash.hex(), 'blockNumber'] = decoded_log.blockNumber\n",
    "                    try:\n",
    "                        aaveLogs.loc[decoded_log.transactionHash.hex(), 'liquidityRate'] = decoded_log['args'].supplyRate\n",
    "                    except:\n",
    "                        aaveLogs.loc[decoded_log.transactionHash.hex(), 'liquidityRate'] = decoded_log['args'].liquidityRate\n",
    "                    aaveLogs.loc[decoded_log.transactionHash.hex(), 'stableBorrowRate'] = decoded_log['args'].stableBorrowRate\n",
    "                    aaveLogs.loc[decoded_log.transactionHash.hex(), 'variableBorrowRate'] = decoded_log['args'].variableBorrowRate\n",
    "\n",
    "                # Supply \n",
    "                elif log['topics'][0] == HexBytes('0x2b627736bca15cd5381dcf80b0bf11fd197d01a037c52b927a881a10fb73ba61'):\n",
    "                    try:\n",
    "                        decoded_log = contract.events.Supply().processLog(log)\n",
    "                    except:\n",
    "                        log.topics[1] = HexBytes(log.topics[1])\n",
    "                        log.topics[2] = HexBytes(log.topics[2])\n",
    "                        decoded_log = contract.events.Repay().processLog(log)\n",
    "                    aaveLogs.loc[decoded_log.transactionHash.hex(), 'event'] = decoded_log.event\n",
    "                    aaveLogs.loc[decoded_log.transactionHash.hex(), 'reserve'] = decoded_log['args'].reserve\n",
    "                    aaveLogs.loc[decoded_log.transactionHash.hex(), 'amount'] = decoded_log['args'].amount\n",
    "                \n",
    "                # Withdraw \n",
    "                elif log['topics'][0] == HexBytes('0x3115d1449a7b732c986cba18244e897a450f61e1bb8d589cd2e69e6c8924f9f7'):\n",
    "                    try:\n",
    "                        decoded_log = contract.events.Withdraw().processLog(log)\n",
    "                    except:\n",
    "                        log.topics[1] = HexBytes(log.topics[1])\n",
    "                        log.topics[2] = HexBytes(log.topics[2])\n",
    "                        log.topics[3] = HexBytes(log.topics[3])\n",
    "                        decoded_log = contract.events.Repay().processLog(log)\n",
    "                    aaveLogs.loc[decoded_log.transactionHash.hex(), 'event'] = decoded_log.event\n",
    "                    aaveLogs.loc[decoded_log.transactionHash.hex(), 'reserve'] = decoded_log['args'].reserve\n",
    "                    aaveLogs.loc[decoded_log.transactionHash.hex(), 'amount'] = decoded_log['args'].amount\n",
    "                \n",
    "                # Borrow \n",
    "                elif log['topics'][0] == HexBytes('0xb3d084820fb1a9decffb176436bd02558d15fac9b0ddfed8c465bc7359d7dce0'):\n",
    "                    try:\n",
    "                        decoded_log = contract.events.Borrow().processLog(log)\n",
    "                    except:\n",
    "                        log.topics[1] = HexBytes(log.topics[1])\n",
    "                        log.topics[2] = HexBytes(log.topics[2])\n",
    "                        decoded_log = contract.events.Repay().processLog(log)\n",
    "                    aaveLogs.loc[decoded_log.transactionHash.hex(), 'event'] = decoded_log.event\n",
    "                    aaveLogs.loc[decoded_log.transactionHash.hex(), 'reserve'] = decoded_log['args'].reserve\n",
    "                    aaveLogs.loc[decoded_log.transactionHash.hex(), 'amount'] = decoded_log['args'].amount\n",
    "                \n",
    "                # Repay\n",
    "                elif log['topics'][0] == HexBytes('0xa534c8dbe71f871f9f3530e97a74601fea17b426cae02e1c5aee42c96c784051'):\n",
    "                    try:\n",
    "                        decoded_log = contract.events.Repay().processLog(log)\n",
    "                    except:\n",
    "                        log.topics[1] = HexBytes(log.topics[1])\n",
    "                        log.topics[2] = HexBytes(log.topics[2])\n",
    "                        log.topics[3] = HexBytes(log.topics[3])\n",
    "                        decoded_log = contract.events.Repay().processLog(log)\n",
    "                    aaveLogs.loc[decoded_log.transactionHash.hex(), 'event'] = decoded_log.event\n",
    "                    aaveLogs.loc[decoded_log.transactionHash.hex(), 'reserve'] = decoded_log['args'].reserve\n",
    "                    aaveLogs.loc[decoded_log.transactionHash.hex(), 'amount'] = decoded_log['args'].amount\n",
    "\n",
    "                # FlashLoan\n",
    "                elif log['topics'][0] == HexBytes('0xefefaba5e921573100900a3ad9cf29f222d995fb3b6045797eaea7521bd8d6f0'):\n",
    "                    try:\n",
    "                        decoded_log = contract.events.FlashLoan().processLog(log)\n",
    "                    except:\n",
    "                        log.topics[1] = HexBytes(log.topics[1])\n",
    "                        log.topics[2] = HexBytes(log.topics[2])\n",
    "                        decoded_log = contract.events.Repay().processLog(log)\n",
    "                    aaveLogs.loc[decoded_log.transactionHash.hex(), 'event'] = decoded_log.event\n",
    "                    aaveLogs.loc[decoded_log.transactionHash.hex(), 'reserve'] = decoded_log['args'].asset\n",
    "                    aaveLogs.loc[decoded_log.transactionHash.hex(), 'amount'] = decoded_log['args'].amount"
   ]
  },
  {
   "cell_type": "code",
   "execution_count": 5,
   "metadata": {},
   "outputs": [
    {
     "name": "stdout",
     "output_type": "stream",
     "text": [
      "16496817.0\n",
      "16885952.0\n",
      "(20429, 7)\n"
     ]
    }
   ],
   "source": [
    "print(aaveLogs.blockNumber.min())\n",
    "print(aaveLogs.blockNumber.max())\n",
    "print(aaveLogs.shape)"
   ]
  },
  {
   "cell_type": "code",
   "execution_count": null,
   "metadata": {},
   "outputs": [],
   "source": [
    "# Save Result to file\n",
    "aaveLogs.to_csv('aave-eth-V3.csv')"
   ]
  },
  {
   "attachments": {},
   "cell_type": "markdown",
   "metadata": {},
   "source": [
    "### For \"AAVE v2\""
   ]
  },
  {
   "cell_type": "code",
   "execution_count": null,
   "metadata": {},
   "outputs": [],
   "source": [
    "for b in blocks:\n",
    "    print(f'Doing Blocks {b} to {b + step}', end = (' ' * 10) + '\\r')\n",
    "    \n",
    "    # Save to file every 100000 blocks\n",
    "    if (b - pools.creation_block.iloc[0]) % 100000 == 0:\n",
    "        aaveLogs.to_csv('aavetemp.csv')\n",
    "        print(f'{\" \" * 50} Salved at Block {b}', end = '\\r') \n",
    "    \n",
    "    # If it stops, continue from block b\n",
    "    if b < 0:\n",
    "        continue\n",
    "    \n",
    "    else:\n",
    "        for a in pools.contract_address:\n",
    "            filter = w3eth.eth.filter({'fromBlock': b, 'toBlock': b + step, 'address': Web3.toChecksumAddress(a)})\n",
    "            logs = w3eth.eth.get_filter_logs(filter.filter_id)\n",
    "            time.sleep(2)\n",
    "            for log in logs:\n",
    "                # ReserveDataUpdated \n",
    "                if log['topics'][0] == HexBytes('0x804c9b842b2748a22bb64b345453a3de7ca54a6ca45ce00d415894979e22897a'):\n",
    "                    try:\n",
    "                        decoded_log = contract.events.ReserveDataUpdated().processLog(log)\n",
    "                    except:\n",
    "                        log.topics[1] = HexBytes(log.topics[1])\n",
    "                        decoded_log = contract.events.Repay().processLog(log)\n",
    "                    aaveLogs.loc[decoded_log.transactionHash.hex(), 'blockNumber'] = decoded_log.blockNumber\n",
    "                    try:\n",
    "                        aaveLogs.loc[decoded_log.transactionHash.hex(), 'liquidityRate'] = decoded_log['args'].supplyRate\n",
    "                    except:\n",
    "                        aaveLogs.loc[decoded_log.transactionHash.hex(), 'liquidityRate'] = decoded_log['args'].liquidityRate\n",
    "                    aaveLogs.loc[decoded_log.transactionHash.hex(), 'stableBorrowRate'] = decoded_log['args'].stableBorrowRate\n",
    "                    aaveLogs.loc[decoded_log.transactionHash.hex(), 'variableBorrowRate'] = decoded_log['args'].variableBorrowRate\n",
    "\n",
    "                # Deposit \n",
    "                elif log['topics'][0] == HexBytes('0xde6857219544bb5b7746f48ed30be6386fefc61b2f864cacf559893bf50fd951'):\n",
    "                    try:\n",
    "                        decoded_log = contract.events.Deposit().processLog(log)\n",
    "                    except:\n",
    "                        log.topics[1] = HexBytes(log.topics[1])\n",
    "                        log.topics[2] = HexBytes(log.topics[2])\n",
    "                        decoded_log = contract.events.Repay().processLog(log)\n",
    "                    aaveLogs.loc[decoded_log.transactionHash.hex(), 'event'] = decoded_log.event\n",
    "                    aaveLogs.loc[decoded_log.transactionHash.hex(), 'reserve'] = decoded_log['args'].reserve\n",
    "                    aaveLogs.loc[decoded_log.transactionHash.hex(), 'amount'] = decoded_log['args'].amount\n",
    "                \n",
    "                # Withdraw \n",
    "                elif log['topics'][0] == HexBytes('0x3115d1449a7b732c986cba18244e897a450f61e1bb8d589cd2e69e6c8924f9f7'):\n",
    "                    try:\n",
    "                        decoded_log = contract.events.Withdraw().processLog(log)\n",
    "                    except:\n",
    "                        log.topics[1] = HexBytes(log.topics[1])\n",
    "                        log.topics[2] = HexBytes(log.topics[2])\n",
    "                        log.topics[3] = HexBytes(log.topics[3])\n",
    "                        decoded_log = contract.events.Repay().processLog(log)\n",
    "                    aaveLogs.loc[decoded_log.transactionHash.hex(), 'event'] = decoded_log.event\n",
    "                    aaveLogs.loc[decoded_log.transactionHash.hex(), 'reserve'] = decoded_log['args'].reserve\n",
    "                    aaveLogs.loc[decoded_log.transactionHash.hex(), 'amount'] = decoded_log['args'].amount\n",
    "                \n",
    "                # Borrow \n",
    "                elif log['topics'][0] == HexBytes('0xc6a898309e823ee50bac64e45ca8adba6690e99e7841c45d754e2a38e9019d9b'):\n",
    "                    try:\n",
    "                        decoded_log = contract.events.Borrow().processLog(log)\n",
    "                    except:\n",
    "                        log.topics[1] = HexBytes(log.topics[1])\n",
    "                        log.topics[2] = HexBytes(log.topics[2])\n",
    "                        decoded_log = contract.events.Repay().processLog(log)\n",
    "                    aaveLogs.loc[decoded_log.transactionHash.hex(), 'event'] = decoded_log.event\n",
    "                    aaveLogs.loc[decoded_log.transactionHash.hex(), 'reserve'] = decoded_log['args'].reserve\n",
    "                    aaveLogs.loc[decoded_log.transactionHash.hex(), 'amount'] = decoded_log['args'].amount\n",
    "                \n",
    "                # Repay\n",
    "                elif log['topics'][0] == HexBytes('0x4cdde6e09bb755c9a5589ebaec640bbfedff1362d4b255ebf8339782b9942faa'):\n",
    "                    try:\n",
    "                        decoded_log = contract.events.Repay().processLog(log)\n",
    "                    except:\n",
    "                        log.topics[1] = HexBytes(log.topics[1])\n",
    "                        log.topics[2] = HexBytes(log.topics[2])\n",
    "                        log.topics[3] = HexBytes(log.topics[3])\n",
    "                        decoded_log = contract.events.Repay().processLog(log)\n",
    "                    aaveLogs.loc[decoded_log.transactionHash.hex(), 'event'] = decoded_log.event\n",
    "                    aaveLogs.loc[decoded_log.transactionHash.hex(), 'reserve'] = decoded_log['args'].reserve\n",
    "                    aaveLogs.loc[decoded_log.transactionHash.hex(), 'amount'] = decoded_log['args'].amount\n",
    "\n",
    "                # FlashLoan\n",
    "                elif log['topics'][0] == HexBytes('0xefefaba5e921573100900a3ad9cf29f222d995fb3b6045797eaea7521bd8d6f0'):\n",
    "                    try:\n",
    "                        decoded_log = contract.events.FlashLoan().processLog(log)\n",
    "                    except:\n",
    "                        log.topics[1] = HexBytes(log.topics[1])\n",
    "                        log.topics[2] = HexBytes(log.topics[2])\n",
    "                        decoded_log = contract.events.Repay().processLog(log)\n",
    "                    aaveLogs.loc[decoded_log.transactionHash.hex(), 'event'] = decoded_log.event\n",
    "                    aaveLogs.loc[decoded_log.transactionHash.hex(), 'reserve'] = decoded_log['args'].asset\n",
    "                    aaveLogs.loc[decoded_log.transactionHash.hex(), 'amount'] = decoded_log['args'].amount"
   ]
  },
  {
   "cell_type": "code",
   "execution_count": null,
   "metadata": {},
   "outputs": [
    {
     "name": "stdout",
     "output_type": "stream",
     "text": [
      "16496817.0\n",
      "16885952.0\n",
      "(20429, 7)\n"
     ]
    }
   ],
   "source": [
    "print(aaveLogs.blockNumber.min())\n",
    "print(aaveLogs.blockNumber.max())\n",
    "print(aaveLogs.shape)"
   ]
  },
  {
   "cell_type": "code",
   "execution_count": null,
   "metadata": {},
   "outputs": [
    {
     "data": {
      "text/plain": [
       "0"
      ]
     },
     "metadata": {},
     "output_type": "display_data"
    }
   ],
   "source": [
    "(block_number - int(aaveLogs.blockNumber.min())) % (block_interval // 12) "
   ]
  },
  {
   "cell_type": "code",
   "execution_count": null,
   "metadata": {},
   "outputs": [],
   "source": [
    "# Save Result to file\n",
    "aaveLogs.to_csv('aave-eth-V2.csv')"
   ]
  },
  {
   "attachments": {},
   "cell_type": "markdown",
   "metadata": {},
   "source": [
    "## Getting BlockTime"
   ]
  },
  {
   "attachments": {},
   "cell_type": "markdown",
   "metadata": {},
   "source": [
    "web3.py does not currently have a simple way to obtain the blocks timestamp in bulk, and querying them one by one against a node is not viable.\n",
    "\n",
    "Therefore, an estimated timestamp is calculated based on the query of the real timestamp of a block every x time (one hour in this case)"
   ]
  },
  {
   "cell_type": "code",
   "execution_count": null,
   "metadata": {},
   "outputs": [],
   "source": [
    "# If block data was just  Gathered:\n",
    "minBlockNumber = int(aaveLogs.blockNumber.min())\n",
    "maxBlockNumber = int(aaveLogs.blockNumber.max())"
   ]
  },
  {
   "attachments": {},
   "cell_type": "markdown",
   "metadata": {},
   "source": [
    "-----"
   ]
  },
  {
   "cell_type": "code",
   "execution_count": 33,
   "metadata": {},
   "outputs": [],
   "source": [
    "# If reading from file:\n",
    "df = pd.read_csv('aave-avalanche_c-V3.csv')\n",
    "minBlockNumber = df.blockNumber.min()\n",
    "maxBlockNumber = df.blockNumber.max()\n",
    "del df"
   ]
  },
  {
   "cell_type": "code",
   "execution_count": 58,
   "metadata": {},
   "outputs": [
    {
     "data": {
      "text/plain": [
       "True"
      ]
     },
     "execution_count": 58,
     "metadata": {},
     "output_type": "execute_result"
    }
   ],
   "source": [
    "# Use a network node to request the past logs \n",
    "provider = Web3.HTTPProvider('https://api.avax.network/ext/bc/C/rpc')\n",
    "w3eth = Web3(provider)\n",
    "# w3eth.middleware_onion.inject(geth_poa_middleware, layer=0) # Only for Polygon/Avalanche\n",
    "w3eth.isConnected()\n",
    "\n",
    "#Nodes Providers:\n",
    "#  https://chainlist.org/\n",
    "#  https://ethereumnodes.com/"
   ]
  },
  {
   "attachments": {},
   "cell_type": "markdown",
   "metadata": {},
   "source": [
    "*************"
   ]
  },
  {
   "attachments": {},
   "cell_type": "markdown",
   "metadata": {},
   "source": [
    "Define how often to retrieved a real timestamp and indicate the average length of the block"
   ]
  },
  {
   "cell_type": "code",
   "execution_count": null,
   "metadata": {},
   "outputs": [],
   "source": [
    "reference_blocks = []\n",
    "completed_blocks = []\n",
    "\n",
    "block_interval = 3600 * 24 # Block interval (in seconds) to retrieve. 1 hour = 3600 seconds \n",
    "block_length = 1 # Approximate number of seconds in a block"
   ]
  },
  {
   "cell_type": "code",
   "execution_count": 59,
   "metadata": {},
   "outputs": [
    {
     "name": "stdout",
     "output_type": "stream",
     "text": [
      "Doing Block 27752472          \r"
     ]
    },
    {
     "data": {
      "text/html": [
       "<div>\n",
       "<style scoped>\n",
       "    .dataframe tbody tr th:only-of-type {\n",
       "        vertical-align: middle;\n",
       "    }\n",
       "\n",
       "    .dataframe tbody tr th {\n",
       "        vertical-align: top;\n",
       "    }\n",
       "\n",
       "    .dataframe thead th {\n",
       "        text-align: right;\n",
       "    }\n",
       "</style>\n",
       "<table border=\"1\" class=\"dataframe\">\n",
       "  <thead>\n",
       "    <tr style=\"text-align: right;\">\n",
       "      <th></th>\n",
       "      <th>blockNumber</th>\n",
       "      <th>timestamp</th>\n",
       "    </tr>\n",
       "  </thead>\n",
       "  <tbody>\n",
       "    <tr>\n",
       "      <th>0</th>\n",
       "      <td>12027673</td>\n",
       "      <td>2022-03-12 20:09:37</td>\n",
       "    </tr>\n",
       "    <tr>\n",
       "      <th>1</th>\n",
       "      <td>12027674</td>\n",
       "      <td>2022-03-12 20:09:39</td>\n",
       "    </tr>\n",
       "  </tbody>\n",
       "</table>\n",
       "</div>"
      ],
      "text/plain": [
       "   blockNumber           timestamp\n",
       "0     12027673 2022-03-12 20:09:37\n",
       "1     12027674 2022-03-12 20:09:39"
      ]
     },
     "execution_count": 59,
     "metadata": {},
     "output_type": "execute_result"
    }
   ],
   "source": [
    "# Loop over the block numbers and retrieve the timestamps\n",
    "for block_number in range(minBlockNumber - 1, maxBlockNumber + 1, round(block_interval // block_length, 0)):\n",
    "        print(f'Doing Block {block_number}', end = (' ' * 10) + '\\r') #  \n",
    "        timestamp = w3eth.eth.get_block(block_number).timestamp\n",
    "        reference_blocks.append([block_number, timestamp])\n",
    "        time.sleep(2)\n",
    "        \n",
    "\n",
    "# Iterate over the queried blocks to complete the intermediate ones with the average time in that period\n",
    "for i in range(len(reference_blocks) - 1):\n",
    "    block1, timestamp1 = reference_blocks[i]\n",
    "    block2, timestamp2 = reference_blocks[i+1]\n",
    "\n",
    "    avg_time_diff = (timestamp2 - timestamp1) / (block2 - block1)\n",
    "\n",
    "    for j in range(block1+1, block2):\n",
    "        timestamp = int(timestamp1 + (j - block1) * avg_time_diff)\n",
    "        completed_blocks.append([j, timestamp])\n",
    "\n",
    "# Add them to the list\n",
    "completed_blocks.append(reference_blocks[-1])\n",
    "\n",
    "completed_blocks = pd.DataFrame(completed_blocks, columns = (\"blockNumber\", \"timestamp\"))\n",
    "completed_blocks['timestamp'] = completed_blocks.timestamp.apply(datetime.utcfromtimestamp)\n",
    "\n",
    "completed_blocks.sort_values('blockNumber', inplace = True)\n",
    "\n",
    "completed_blocks.head(2)\n"
   ]
  },
  {
   "cell_type": "code",
   "execution_count": 60,
   "metadata": {},
   "outputs": [
    {
     "name": "stdout",
     "output_type": "stream",
     "text": [
      "Input: 12027673 - 27825369\n",
      "Done:  12027673 - 27752472\n"
     ]
    },
    {
     "data": {
      "text/plain": [
       "blockNumber               19890073\n",
       "timestamp      2022-09-15 06:21:02\n",
       "Name: 7862309, dtype: object"
      ]
     },
     "execution_count": 60,
     "metadata": {},
     "output_type": "execute_result"
    }
   ],
   "source": [
    "# Sanity Checks\n",
    "print(f\"Input: {minBlockNumber} - {maxBlockNumber}\")\n",
    "print(f\"Done:  {completed_blocks.blockNumber.min()} - {completed_blocks.blockNumber.max()}\")\n",
    "completed_blocks.iloc[completed_blocks.shape[0]//2]"
   ]
  },
  {
   "cell_type": "code",
   "execution_count": 61,
   "metadata": {},
   "outputs": [],
   "source": [
    "completed_blocks.to_csv(f'avalanche-blocks-{completed_blocks.blockNumber.min()}-{completed_blocks.blockNumber.max()}.csv', index = False)"
   ]
  },
  {
   "attachments": {},
   "cell_type": "markdown",
   "metadata": {},
   "source": [
    "______________________"
   ]
  }
 ],
 "metadata": {
  "kernelspec": {
   "display_name": "Python 3.9.7 ('base')",
   "language": "python",
   "name": "python3"
  },
  "language_info": {
   "codemirror_mode": {
    "name": "ipython",
    "version": 3
   },
   "file_extension": ".py",
   "mimetype": "text/x-python",
   "name": "python",
   "nbconvert_exporter": "python",
   "pygments_lexer": "ipython3",
   "version": "3.9.7"
  },
  "orig_nbformat": 4,
  "vscode": {
   "interpreter": {
    "hash": "ad2bdc8ecc057115af97d19610ffacc2b4e99fae6737bb82f5d7fb13d2f2c186"
   }
  }
 },
 "nbformat": 4,
 "nbformat_minor": 2
}
